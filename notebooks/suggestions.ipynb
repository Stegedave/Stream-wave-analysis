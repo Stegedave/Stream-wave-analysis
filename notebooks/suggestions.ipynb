{
 "cells": [
  {
   "cell_type": "code",
   "execution_count": null,
   "id": "91d359e7-7b89-4195-9c93-decaa1870d6a",
   "metadata": {},
   "outputs": [],
   "source": [
    "# StreamWave Churn Analysis\n",
    "\n",
    "## Objective\n",
    "Analyze user churn patterns, build a predictive model, and recommend actionable steps to reduce churn.\n",
    "\n",
    "---\n",
    "\n",
    "## 1. Data Exploration\n",
    "Performed EDA on key features:\n",
    "- High churn around the 200-day account age mark.\n",
    "- Low engagement (fewer genres watched, lower average watch time) linked to higher churn.\n",
    "- Little correlation between account age and churn overall, but noticeable patterns in 150–250 day window.\n",
    "\n",
    "---\n",
    "\n",
    "## 2. Classifier Modeling\n",
    "Used Logistic Regression to model churn prediction.\n",
    "\n",
    "**Performance:**\n",
    "- Accuracy: 76%\n",
    "- Precision (Stayed): 81%\n",
    "- Recall (Stayed): 66%\n",
    "- Precision (Churned): 72%\n",
    "- Recall (Churned): 85%\n",
    "\n",
    "**Top predictors:**\n",
    "- `avg_watch_time_per_day`: strong negative predictor (less watch time, higher churn).\n",
    "- `support_tickets_opened`: negative impact on retention.\n",
    "- `num_devices` and `num_genres_watched`: weakly positive effect.\n",
    "\n",
    "---\n",
    "\n",
    "## 3. Recommended Actions to Reduce Churn\n",
    "\n",
    "**1. Personalize Content for Low-Genre Users**\n",
    "- Users watching few genres (1–3) are more likely to churn.\n",
    "- Suggest content in new genres or create onboarding playlists to expand viewing habits.\n",
    "\n",
    "**2. Target Users Approaching 200 Days**\n",
    "- Introduce milestone perks or loyalty nudges around 180–200 days.\n",
    "- Consider retention campaigns or proactive support engagement in that window.\n",
    "\n",
    "**3. Improve Support Experience**\n",
    "- Some churned users opened support tickets — indicating a pain point.\n",
    "- Streamline issue resolution and send follow-ups to check satisfaction.\n",
    "\n",
    "---\n",
    "\n",
    "## Next Steps\n",
    "- Test strategies on user segments and measure impact.\n",
    "- Explore deeper time-series churn trends.\n",
    "- Possibly enrich with qualitative data (surveys or feedback).\n"
   ]
  }
 ],
 "metadata": {
  "kernelspec": {
   "display_name": "Python 3 (ipykernel)",
   "language": "python",
   "name": "python3"
  },
  "language_info": {
   "codemirror_mode": {
    "name": "ipython",
    "version": 3
   },
   "file_extension": ".py",
   "mimetype": "text/x-python",
   "name": "python",
   "nbconvert_exporter": "python",
   "pygments_lexer": "ipython3",
   "version": "3.13.2"
  }
 },
 "nbformat": 4,
 "nbformat_minor": 5
}
